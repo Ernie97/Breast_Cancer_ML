{
 "cells": [
  {
   "cell_type": "code",
   "execution_count": 27,
   "metadata": {},
   "outputs": [
    {
     "name": "stderr",
     "output_type": "stream",
     "text": [
      "C:\\Users\\ernie\\Anaconda3\\lib\\site-packages\\sklearn\\utils\\validation.py:444: DataConversionWarning: Data with input dtype object was converted to float64 by StandardScaler.\n",
      "  warnings.warn(msg, DataConversionWarning)\n"
     ]
    },
    {
     "name": "stdout",
     "output_type": "stream",
     "text": [
      "[[ 0.32734673  2.62499275  0.48841684 ...  1.82186593  1.94760027\n",
      "   3.20551662]\n",
      " [-0.71030891 -0.76769026 -0.67460017 ... -0.05426902 -0.16452549\n",
      "  -0.54933556]\n",
      " [-0.53784537 -0.30293917 -0.55596744 ... -0.38735421  0.53464978\n",
      "  -0.52510344]\n",
      " ...\n",
      " [-0.34526108 -0.25646406 -0.30038675 ... -0.06776639 -0.49707986\n",
      "   0.27681081]\n",
      " [ 1.21553398  0.29194224  1.21270088 ...  0.5531128   0.30105062\n",
      "  -0.30363309]\n",
      " [ 0.7929983   0.03168162  0.69654444 ... -0.44629274 -0.58630176\n",
      "  -1.36928302]]\n",
      "[[81  1]\n",
      " [ 3 58]]\n"
     ]
    }
   ],
   "source": [
    "import csv\n",
    "import pandas as pd\n",
    "from pandas.io.parsers import read_csv\n",
    "from sklearn.model_selection import train_test_split\n",
    "from sklearn.preprocessing import StandardScaler\n",
    "from sklearn.neural_network import MLPClassifier\n",
    "from sklearn.metrics import classification_report,confusion_matrix\n",
    "\n",
    "\n",
    "\n",
    "\n",
    "def carga_csv(filename) :\n",
    "    valores = read_csv(filename, header=None).values\n",
    "    return valores\n",
    "\n",
    "datos = carga_csv(\"Data/wdbc.csv\")\n",
    "X = datos[:, 2:32]\n",
    "y = datos[:, 1]\n",
    "\n",
    "X_train, X_test, y_train, y_test = train_test_split(X, y)\n",
    "\n",
    "scaler = StandardScaler()\n",
    "\n",
    "scaler.fit(X_train)\n",
    "\n",
    "StandardScaler(copy=True, with_mean=True, with_std=True)\n",
    "\n",
    "X_train = scaler.transform(X_train)\n",
    "X_test = scaler.transform(X_test)\n",
    "\n",
    "print(X_train)\n",
    "\n",
    "mlp = MLPClassifier(hidden_layer_sizes=(13,13,13),activation = 'logistic', max_iter=500)\n",
    "\n",
    "mlp.fit(X_train,y_train)\n",
    "\n",
    "predictions = mlp.predict(X_test)\n",
    "\n",
    "print(confusion_matrix(y_test,predictions))\n",
    "\n",
    "print(classification_report(y_test,predictions))"
   ]
  },
  {
   "cell_type": "code",
   "execution_count": null,
   "metadata": {
    "collapsed": true
   },
   "outputs": [],
   "source": []
  }
 ],
 "metadata": {
  "kernelspec": {
   "display_name": "Python 3",
   "language": "python",
   "name": "python3"
  },
  "language_info": {
   "codemirror_mode": {
    "name": "ipython",
    "version": 3
   },
   "file_extension": ".py",
   "mimetype": "text/x-python",
   "name": "python",
   "nbconvert_exporter": "python",
   "pygments_lexer": "ipython3",
   "version": "3.6.2"
  }
 },
 "nbformat": 4,
 "nbformat_minor": 2
}
