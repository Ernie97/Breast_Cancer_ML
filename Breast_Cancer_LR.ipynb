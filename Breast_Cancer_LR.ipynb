{
 "cells": [
  {
   "cell_type": "code",
   "execution_count": null,
   "metadata": {
    "collapsed": true
   },
   "outputs": [],
   "source": []
  },
  {
   "cell_type": "code",
   "execution_count": 1,
   "metadata": {},
   "outputs": [
    {
     "data": {
      "image/png": "[encoded data removed]",
      "text/plain": [
       "<Figure size 432x288 with 1 Axes>"
      ]
     },
     "metadata": {},
     "output_type": "display_data"
    },
    {
     "name": "stdout",
     "output_type": "stream",
     "text": [
      "El valor de la funcion de coste es: [[0.69314718]]\n",
      "\n",
      "El gradiente es: \n",
      "[[0.12206573]\n",
      " [0.45371479]\n",
      " [1.52044601]\n",
      " [2.30030516]]\n",
      "\n",
      "Los thetas optimos son: [-6.4611058  -3.92657603  0.03355747  0.66189805]\n",
      "\n",
      "El porcetaje de acierto en las predicciones por regresion logistica con lambda = 1 es: 90.20979020979021\n"
     ]
    }
   ],
   "source": [
    "import csv\n",
    "from mpl_toolkits.mplot3d import Axes3D\n",
    "import numpy as np\n",
    "import pandas as pd\n",
    "from pandas.io.parsers import read_csv\n",
    "import matplotlib as mpl\n",
    "import matplotlib.pyplot as plt\n",
    "import math\n",
    "import scipy . optimize as opt\n",
    "from sklearn.preprocessing import PolynomialFeatures\n",
    "from scipy import optimize\n",
    "from sklearn.model_selection import train_test_split\n",
    "\n",
    "def carga_csv(filename) :\n",
    "    valores = read_csv(filename, header=None).values\n",
    "    return valores\n",
    "\n",
    "datos = carga_csv(\"Data/wdbc.csv\")\n",
    "X = datos[:, 2:5]\n",
    "X = X.astype(float)\n",
    "\n",
    "y = datos[:, 1]\n",
    "\n",
    "X_train, X_test, y_train, y_test = train_test_split(X, y)\n",
    "\n",
    "y = np.array(y == 'M').astype(int)\n",
    "y = y.reshape(len(y), 1)\n",
    "\n",
    "y_train = np.array(y_train == 'M').astype(int)\n",
    "y_train = y_train.reshape(len(y_train), 1)\n",
    "\n",
    "y_test = np.array(y_test == 'M').astype(int)\n",
    "y_test = y_test.reshape(len(y_test), 1)\n",
    "\n",
    "maligno = np.where(y == 1)\n",
    "benigno = np.where(y == 0)\n",
    "plt.scatter(X[maligno, 0],X[maligno,1],marker='+', c='k')\n",
    "plt.scatter(X[benigno, 0],X[benigno,1],marker='o', c='y')\n",
    "\n",
    "plt.show()\n",
    "\n",
    "\n",
    "def sigmoid(z):\n",
    "    return 1/(1+np.exp(-z))\n",
    "    \n",
    "def hipotesis(comp, x):\n",
    "    return sigmoid(x.dot(comp))\n",
    "\n",
    "\n",
    "def funcionCoste(comp, x, y, landa):\n",
    "    comp = comp.reshape(-1, 1)\n",
    "    matriz1 = np.log(hipotesis(comp, x))\n",
    "    logaritmo1 = np.dot(matriz1.T,y)\n",
    "    matriz2 = np.log(1-hipotesis(comp, x))\n",
    "    logaritmo2 = np.dot(matriz2.T,(1-y))\n",
    "    sum_reg = np.sum(comp**2)\n",
    "    regularizacion = ((landa/(2*len(x)))*sum_reg)\n",
    "    funcionCoste = logaritmo1 + logaritmo2\n",
    "    return funcionCoste/(-len(x)) + regularizacion\n",
    "\n",
    "\n",
    "def calcular_gradiente(theta,X, y, landa):\n",
    "    theta = theta.copy()\n",
    "    theta = theta.reshape(-1, 1) \n",
    "    m = len(y)\n",
    "    prediction = hipotesis(theta, X)\n",
    "    gradiente = (1/m)*(X.T.dot((prediction - y)))\n",
    "    regularizacion = (landa/len(X))*theta\n",
    "    return gradiente + regularizacion\n",
    "\n",
    "\n",
    "def prediccion_porcentaje(X, y, optTheta):\n",
    "    ejemplosCorrectos = 0\n",
    "    for x in range(len(X)):\n",
    "        prediccion = hipotesis(optTheta.T, X[x,:])\n",
    "        if (prediccion >= 0.5):\n",
    "            prediccion = 1\n",
    "        if (prediccion < 0.5):\n",
    "            prediccion = 0\n",
    "        if(y[x] == prediccion):\n",
    "            ejemplosCorrectos = ejemplosCorrectos + 1\n",
    "    porcentaje = (ejemplosCorrectos*100)/len(X)\n",
    "    return porcentaje\n",
    "    \n",
    "\n",
    "\n",
    "X_b = np.c_[np.ones((len(X_train),1)),X_train]\n",
    "X_test_b = np.c_[np.ones((len(X_test),1)),X_test]\n",
    "landa = 1\n",
    "\n",
    "#FUNCIONCOSTE:\n",
    "\n",
    "theta = np.zeros([len(X_b[0]), 1])\n",
    "Z = funcionCoste(theta,X_b,y_train, landa)\n",
    "\n",
    "print(\"El valor de la funcion de coste es: \" + str(Z))\n",
    "\n",
    "grad= calcular_gradiente(theta, X_b, y_train, landa)\n",
    "print(\"\\nEl gradiente es: \\n\" + str(grad))\n",
    "\n",
    "#THETAS OPTIMOS:\n",
    "result = opt.fmin_tnc(func = funcionCoste, x0 = theta, fprime= calcular_gradiente, args=(X_b, y_train, landa))\n",
    "theta_opt = result[0]\n",
    "print(\"\\nLos thetas optimos son: \" + str(theta_opt))\n",
    "\n",
    "\n",
    "porcentaje = prediccion_porcentaje(X_test_b, y_test, theta_opt)\n",
    "\n",
    "print(\"\\nEl porcetaje de acierto en las predicciones por regresion logistica con lambda = \" + str(landa) + \" es: \" + str(porcentaje))\n"
   ]
  },
  {
   "cell_type": "code",
   "execution_count": null,
   "metadata": {
    "collapsed": true
   },
   "outputs": [],
   "source": []
  }
 ],
 "metadata": {
  "kernelspec": {
   "display_name": "Python 3",
   "language": "python",
   "name": "python3"
  },
  "language_info": {
   "codemirror_mode": {
    "name": "ipython",
    "version": 3
   },
   "file_extension": ".py",
   "mimetype": "text/x-python",
   "name": "python",
   "nbconvert_exporter": "python",
   "pygments_lexer": "ipython3",
   "version": "3.6.2"
  }
 },
 "nbformat": 4,
 "nbformat_minor": 2
}
